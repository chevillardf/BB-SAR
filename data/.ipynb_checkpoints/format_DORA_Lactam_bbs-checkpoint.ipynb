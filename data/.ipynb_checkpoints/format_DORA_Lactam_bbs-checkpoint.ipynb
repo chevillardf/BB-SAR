{
 "cells": [
  {
   "cell_type": "code",
   "execution_count": 1,
   "metadata": {},
   "outputs": [],
   "source": [
    "import re, sys\n",
    "import pandas as pd\n",
    "import numpy as np\n",
    "from rdkit import Chem, DataStructs, RDLogger\n",
    "from rdkit.Chem import rdChemReactions, AllChem, Draw, PandasTools\n",
    "RDLogger.DisableLog('rdApp.*')\n",
    "import warnings\n",
    "warnings.filterwarnings('ignore')"
   ]
  },
  {
   "cell_type": "markdown",
   "metadata": {},
   "source": [
    "#### Utils"
   ]
  },
  {
   "cell_type": "code",
   "execution_count": 2,
   "metadata": {},
   "outputs": [],
   "source": [
    "def ref_bonds(mol):\n",
    "    bond_list=[]\n",
    "    ref_labels=[]\n",
    "\n",
    "    # Core definition: exit vectors are defined on the lactam FG (B) to get A and C\n",
    "    g1 = '[*]-!@[#6;R;x2]-@[#7;$([#7]@[#6;$([#6]=[O])])]-!@[*]'\n",
    "    g1m = list(mol.GetSubstructMatches(Chem.MolFromSmarts(g1)))\n",
    "\n",
    "    if len(g1m)>0:\n",
    "        bond_list=[g1m[0][:2],g1m[0][-2:]] # bond 1 before core A-B, bond after core B-C\n",
    "        ref_labels=[(12,21),(23,32)]\n",
    "        \n",
    "    return bond_list,ref_labels\n",
    "\n",
    "def format_bbs_df(bbs_df, mols_bbs_df, main_ppties):\n",
    "    bbs_df = bbs_df[['bb_smi', 'bb_id']]\n",
    "    bbs_df['bb_tag'] = bbs_df['bb_id'].str[0].astype(str)\n",
    "    \n",
    "    for ppty in main_ppties:\n",
    "        for index, row in bbs_df.iterrows():\n",
    "            median, count, score = get_ppty_median_count_from_bb_id(mols_bbs_df, row['bb_id'], ppty)\n",
    "            bbs_df.at[index, ppty+'_count'] = int(count)\n",
    "            bbs_df.at[index, ppty+'_median'] = round(median, 2)\n",
    "            bbs_df.at[index, ppty+'_score'] = round(score, 2)\n",
    "        print(ppty)\n",
    "        \n",
    "    return bbs_df\n",
    "\n",
    "def get_ppty_median_count_from_bb_id(df, bb_id, ppty):\n",
    "    # currently handle 3 or 4 BBs\n",
    "    try:\n",
    "        filt = (df['A_id'] == bb_id) | (df['B_id'] == bb_id) | (df['C_id'] == bb_id) | (df['D_id'] == bb_id)\n",
    "    except:\n",
    "        filt = (df['A_id'] == bb_id) | (df['B_id'] == bb_id) | (df['C_id'] == bb_id)\n",
    "    df = df[filt]\n",
    "    median = df[ppty].median()\n",
    "    count = df[ppty].count()\n",
    "    cv = (df[ppty].std() / df[ppty].mean()) * 100\n",
    "    if ppty in ['IP1_EC50', 'HLM', 'MDR1_efflux', 'logD'] and cv != None:\n",
    "        score = median + cv\n",
    "    elif cv != None:\n",
    "        score = median - cv\n",
    "    else:\n",
    "        score = None\n",
    "\n",
    "    return median, count, score\n",
    "\n",
    "def rank_bbs_ppties(bbs_df, ppties_list):\n",
    "    unfavorabel_gain_ppties = ['EC50_main', 'OX1_IP1_EC50', 'HLM']\n",
    "    filt = bbs_df['bb_id'].str.contains('A')\n",
    "    bb_a = bbs_df[filt]\n",
    "    filt = bbs_df['bb_id'].str.contains('B')\n",
    "    bb_b = bbs_df[filt]\n",
    "    filt = bbs_df['bb_id'].str.contains('C')\n",
    "    bb_c = bbs_df[filt]\n",
    "    for ppty in ppties_list:\n",
    "        if ppty in unfavorabel_gain_ppties:\n",
    "            bb_a[ppty+'_rank'] = bb_a[ppty+'_median'].rank(method='min', ascending=True).fillna(0).astype(int)\n",
    "            bb_b[ppty+'_rank'] = bb_b[ppty+'_median'].rank(method='min', ascending=True).fillna(0).astype(int)\n",
    "            bb_c[ppty+'_rank'] = bb_c[ppty+'_median'].rank(method='min', ascending=True).fillna(0).astype(int)\n",
    "        else:\n",
    "            bb_a[ppty+'_rank'] = bb_a[ppty+'_median'].rank(method='min', ascending=False).fillna(0).astype(int)\n",
    "            bb_b[ppty+'_rank'] = bb_b[ppty+'_median'].rank(method='min', ascending=False).fillna(0).astype(int)\n",
    "            bb_c[ppty+'_rank'] = bb_c[ppty+'_median'].rank(method='min', ascending=False).fillna(0).astype(int)\n",
    "    bbs_df = pd.concat([bb_a, bb_b, bb_c]) \n",
    "    return bbs_df"
   ]
  },
  {
   "cell_type": "markdown",
   "metadata": {},
   "source": [
    "#### Data Processing: fragment the Chemical Series into its consituent BBs\n",
    "##### Load dataset"
   ]
  },
  {
   "cell_type": "code",
   "execution_count": 3,
   "metadata": {},
   "outputs": [],
   "source": [
    "df = PandasTools.LoadSDF('DORA_Lactam_mols.sdf', smilesName='mol_smi', molColName='ROMol')"
   ]
  },
  {
   "cell_type": "markdown",
   "metadata": {},
   "source": [
    "##### Assign BBs from rules"
   ]
  },
  {
   "cell_type": "code",
   "execution_count": 4,
   "metadata": {},
   "outputs": [],
   "source": [
    "smi = [ Chem.CanonSmiles(s) for s in df['mol_smi'] ]\n",
    "idx = list(df['ID'])\n",
    "\n",
    "# ps == settings for smi conversion to mol\n",
    "ps = Chem.SmilesParserParams()\n",
    "ps.removeHs=False \n",
    "ps.allHsExplicit=True\n",
    "mol = [ Chem.MolFromSmiles(s,ps) for s in smi ]\n",
    "molH = [ Chem.RWMol(Chem.AddHs(m,explicitOnly=True)) for m in mol ]\n",
    "df['molH'] = molH\n",
    "\n",
    "smis = []\n",
    "it = []\n",
    "uncut = 0\n",
    "for im, m in enumerate(molH):\n",
    "    mbonds,ref_labels=ref_bonds(m)\n",
    "\t\n",
    "    if len(mbonds)!=2: # if rules does not work, returns empty bbs\n",
    "        smis.append(['','','']) # len(list)= 3 fragments coz two bonds/ exit v\n",
    "        uncut+=1\n",
    "    else :\n",
    "        allbonds=m.GetBonds()\t\n",
    "        \n",
    "        bidx=[]\n",
    "        labels=[]\n",
    "        for imb,mb in enumerate(mbonds):\n",
    "            for ib,b in enumerate(allbonds):\n",
    "                a=[b.GetBeginAtomIdx(),b.GetEndAtomIdx()]\n",
    "                if mb[0]==b.GetBeginAtomIdx() and mb[1]==b.GetEndAtomIdx() :\n",
    "                    bidx.append(b.GetIdx())\n",
    "                    labels.append(ref_labels[imb][::-1])\n",
    "                    break\n",
    "                elif mb[1]==b.GetBeginAtomIdx() and mb[0]==b.GetEndAtomIdx() :\n",
    "                    bidx.append(b.GetIdx())\n",
    "                    labels.append(ref_labels[imb])\n",
    "                    break\n",
    "                    \n",
    "        mol_f = Chem.FragmentOnBonds(m,tuple(bidx),dummyLabels=labels) # fragment the mol based on defined bonds\n",
    "        smi = Chem.MolToSmiles(mol_f)\n",
    "        rsmi=[ s for isx,s in enumerate(smi.split('.')) if \"*\" in s ] #and s.count(\"[\"+str(isx+1))>0 ]\n",
    "        \n",
    "        if len(rsmi)==3:\n",
    "            smis.append(rsmi) # appends all frag_smi together   \n",
    "        else :\n",
    "            smis.append(['','',''])\n",
    "\n",
    "            uncut+=1\n",
    "\n",
    "mol_df = pd.DataFrame(smis,columns=['A_smi','B_smi','C_smi'])\n",
    "mol_df['ID']=idx\n",
    "mol_df['mol']=molH"
   ]
  },
  {
   "cell_type": "code",
   "execution_count": 5,
   "metadata": {},
   "outputs": [],
   "source": [
    "# here, a dataframe is created containing the bb smiles, their ids and counts\n",
    "smi_cols=[ c for c in mol_df.columns if \"_smi\" in c ] \n",
    "\n",
    "for ic,c in enumerate(smi_cols):\n",
    "    bb_smi=mol_df[mol_df[c]!=''][c].unique() # unique should not change the order of the df\n",
    "    bb_ids=[ c.replace(\"_smi\",\"\")+str(i+1) for i,s in enumerate(bb_smi)]\n",
    "    counts=[]\n",
    "    for bb in bb_smi:\n",
    "        counts.append(len(mol_df[mol_df[c]==bb][c]))\n",
    "    if ic==0:\n",
    "        bb_df=pd.DataFrame({'bb_id':bb_ids,'bb_smi':bb_smi,'count':counts})  \n",
    "    else:\n",
    "        bb_df=bb_df._append(pd.DataFrame({'bb_id':bb_ids,'bb_smi':bb_smi,'count':counts}))"
   ]
  },
  {
   "cell_type": "code",
   "execution_count": 6,
   "metadata": {},
   "outputs": [],
   "source": [
    "for ic,c in enumerate(smi_cols):\n",
    "    ismis = bb_df[ bb_df['bb_id'].str.contains(c[0])] # same position    \n",
    "    mol_df_t = mol_df.merge(bb_df,how='left',left_on=mol_df[c].str.replace(\"*\",\"\"),right_on=bb_df['bb_smi'].str.replace(\"*\",\"\")).rename(columns={'bb_id':c[0]+'_id'})\n",
    "    mol_df = mol_df_t.drop(columns=['count','key_0','bb_smi'])\n",
    "bb_df = bb_df.reset_index()"
   ]
  },
  {
   "cell_type": "markdown",
   "metadata": {},
   "source": [
    "##### Write mols_bbs"
   ]
  },
  {
   "cell_type": "code",
   "execution_count": 7,
   "metadata": {},
   "outputs": [],
   "source": [
    "mols_bbs_df = pd.merge(df, mol_df, on='ID')"
   ]
  },
  {
   "cell_type": "code",
   "execution_count": 8,
   "metadata": {},
   "outputs": [],
   "source": [
    "mols_bbs_df = mols_bbs_df[['ID', 'mol_smi', 'EC50_main', 'A_id', 'B_id', 'C_id', 'OX1_IP1_EC50', 'HLM', 'CYP_testo',\n",
    "       'ratio_hOX1R_hOX2R', 'mol_flag']]\n",
    "mols_bbs_df.rename(columns={'ID':'mol_id'}, inplace=True)\n",
    "# fix B22/68 stereo: this is done to distinguish the enantio pure BB from the racemic for later analysis\n",
    "mols_bbs_df.loc[(mols_bbs_df['B_id'] == 'B22') & (mols_bbs_df['mol_flag'] == 'this enantiomer R'), 'B_id'] = 'B68'\n",
    "mols_bbs_df['bbs_id'] = mols_bbs_df[['A_id', 'B_id', 'C_id']].values.tolist()\n",
    "mols_bbs_df['sub_series'] = ''\n",
    "mols_bbs_df.to_json('DORA_Lactam_mols_bbs.json', orient = 'records')"
   ]
  },
  {
   "cell_type": "markdown",
   "metadata": {},
   "source": [
    "##### Write bbs"
   ]
  },
  {
   "cell_type": "code",
   "execution_count": 9,
   "metadata": {
    "scrolled": true
   },
   "outputs": [],
   "source": [
    "# insert B68: this is done to distinguish the enantio pure BB from the racemic for later analysis\n",
    "new_row = {'index': 323, 'bb_id': 'B68', 'bb_smi': '[21*][C@]1([H])C[C@@]([H])(O)C(=O)N1[23*]', 'count': 15}\n",
    "bb_df = pd.concat([bb_df, pd.DataFrame([new_row])], ignore_index=True)\n",
    "bb_df.loc[(bb_df['bb_id'] == 'B22'), 'count'] = 87"
   ]
  },
  {
   "cell_type": "code",
   "execution_count": 10,
   "metadata": {},
   "outputs": [],
   "source": [
    "# Extract the letter part (e.g., 'A', 'B', etc.) and numeric part separately\n",
    "bb_df['bb_letter'] = bb_df['bb_id'].str.extract('([A-Z]+)')\n",
    "bb_df['bb_number'] = bb_df['bb_id'].str.extract('(\\d+)').astype(int)\n",
    "\n",
    "bb_df = bb_df.sort_values(by=['bb_letter', 'bb_number'])\n",
    "bb_df = bb_df.drop(columns=['bb_letter', 'bb_number'])"
   ]
  },
  {
   "cell_type": "code",
   "execution_count": 11,
   "metadata": {},
   "outputs": [
    {
     "name": "stdout",
     "output_type": "stream",
     "text": [
      "EC50_main\n",
      "CYP_testo\n",
      "OX1_IP1_EC50\n",
      "HLM\n",
      "ratio_hOX1R_hOX2R\n"
     ]
    }
   ],
   "source": [
    "mols_bbs_df['EC50_main'] = mols_bbs_df['EC50_main'].astype(float)\n",
    "mols_bbs_df['CYP_testo'] =  pd.to_numeric(mols_bbs_df['CYP_testo'], errors='coerce')\n",
    "mols_bbs_df['OX1_IP1_EC50'] = mols_bbs_df['OX1_IP1_EC50'].astype(float)\n",
    "mols_bbs_df['HLM'] =  pd.to_numeric(mols_bbs_df['HLM'], errors='coerce')\n",
    "mols_bbs_df['ratio_hOX1R_hOX2R'] = mols_bbs_df['ratio_hOX1R_hOX2R'].astype(float)\n",
    "bbs_df = format_bbs_df(bb_df, mols_bbs_df, ['EC50_main', 'CYP_testo', 'OX1_IP1_EC50', 'HLM', 'ratio_hOX1R_hOX2R'])"
   ]
  },
  {
   "cell_type": "code",
   "execution_count": 12,
   "metadata": {},
   "outputs": [],
   "source": [
    "bbs_df = rank_bbs_ppties(bbs_df, ['EC50_main', 'CYP_testo', 'OX1_IP1_EC50', 'HLM', 'ratio_hOX1R_hOX2R'])"
   ]
  },
  {
   "cell_type": "code",
   "execution_count": 13,
   "metadata": {},
   "outputs": [],
   "source": [
    "bbs_df['project'] = 'DORA'\n",
    "bbs_df['series'] = 'Lactam'"
   ]
  },
  {
   "cell_type": "code",
   "execution_count": 14,
   "metadata": {},
   "outputs": [],
   "source": [
    "bbs_df.to_json('../data/DORA_Lactam_bbs.json', orient = 'records')"
   ]
  },
  {
   "cell_type": "code",
   "execution_count": null,
   "metadata": {},
   "outputs": [],
   "source": []
  }
 ],
 "metadata": {
  "kernelspec": {
   "display_name": "Python 3 (ipykernel)",
   "language": "python",
   "name": "python3"
  },
  "language_info": {
   "codemirror_mode": {
    "name": "ipython",
    "version": 3
   },
   "file_extension": ".py",
   "mimetype": "text/x-python",
   "name": "python",
   "nbconvert_exporter": "python",
   "pygments_lexer": "ipython3",
   "version": "3.10.13"
  }
 },
 "nbformat": 4,
 "nbformat_minor": 4
}
