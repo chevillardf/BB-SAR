{
 "cells": [
  {
   "cell_type": "code",
   "execution_count": 1,
   "metadata": {},
   "outputs": [],
   "source": [
    "import re, sys\n",
    "import pandas as pd\n",
    "import numpy as np\n",
    "from rdkit import Chem, DataStructs, RDLogger\n",
    "from rdkit.Chem import rdChemReactions, AllChem, Draw, PandasTools\n",
    "RDLogger.DisableLog('rdApp.*')\n",
    "import warnings\n",
    "warnings.filterwarnings('ignore')"
   ]
  },
  {
   "cell_type": "markdown",
   "metadata": {},
   "source": [
    "#### Utils"
   ]
  },
  {
   "cell_type": "code",
   "execution_count": 2,
   "metadata": {},
   "outputs": [],
   "source": [
    "# utils were placed here so the notebook can be run inde\n",
    "def get_mol_H(df, smi_col, mol_id_col):\n",
    "    mol_smis = [Chem.CanonSmiles(s) for s in df[smi_col]]\n",
    "    mol_ids = list(df[mol_id_col])\n",
    "    ps = Chem.SmilesParserParams()\n",
    "    ps.removeHs=False \n",
    "    ps.allHsExplicit=True\n",
    "    mols = [Chem.MolFromSmiles(s, ps) for s in mol_smis]\n",
    "    mols_H = [Chem.RWMol(Chem.AddHs(m,explicitOnly=True)) for m in mols]\n",
    "    return mols_H, mol_ids\n",
    "\n",
    "def get_fragment_bonds(mol):\n",
    "    \"\"\"Identify the bonds used to fragment a molecule into BBs for a specific chemical series.\n",
    "\n",
    "    Args:\n",
    "        mol (rdkit object): a molecule as an rdkit object\n",
    "\n",
    "    Returns:\n",
    "        fragment_bonds_list (list): the list of bonds used to break the molecule into BBs.\n",
    "        fragment_bonds_list_labeled (list): the list of bonds labelled\n",
    "    \"\"\"\n",
    "    fragment_bonds = []\n",
    "    fragment_bonds_labeled = []\n",
    "\n",
    "    # Core definition: exit vectors are defined on the lactam FG (B) to get A and C\n",
    "    substr = '[*]-!@[#6;R;x2]-@[#7;$([#7]@[#6;$([#6]=[O])])]-!@[*]'\n",
    "    substr_match = list(mol.GetSubstructMatches(Chem.MolFromSmarts(substr)))\n",
    "\n",
    "    if len(substr_match) > 0: # reject any molecule not having this substructure, thus OO chemical series\n",
    "        fragment_bonds = [substr_match[0][:2],substr_match[0][-2:]] # bond 1 before core A-B, bond after core B-C\n",
    "        fragment_bonds_labeled = [(12, 21),(23, 32)] # for naming 1 = A, 2 = B and so on. This is helpful to know which atom is involved in which bond. \n",
    "        #e.g. (12, 21) is the bond connecting A to B with 12 being on the A side and 21 on the B side.\n",
    "        \n",
    "    return fragment_bonds, fragment_bonds_labeled\n",
    "\n",
    "def get_bbs_from_frag_bonds(mols_H, get_fragment_bonds, n_fragment_bonds):\n",
    "    bb_smis = []\n",
    "    uncut = 0\n",
    "    \n",
    "    for mol_id, mol in enumerate(mols_H):\n",
    "        fragment_bonds, fragment_bonds_labeled = get_fragment_bonds(mol)\n",
    "    \t\n",
    "        if '' in fragment_bonds or not fragment_bonds: # if rules does not work, returns empty bbs\n",
    "            if n_fragment_bonds == 4:\n",
    "                bb_smis.append(['', '', '',''])\n",
    "            else:\n",
    "                bb_smis.append(['', '', ''])\n",
    "            uncut += 1\n",
    "        else :\n",
    "            all_bonds = mol.GetBonds()\n",
    "            bidx = []\n",
    "            labels = []\n",
    "            for fragment_bond_id, fragment_bond in enumerate(fragment_bonds):\n",
    "                for ib, bond in enumerate(all_bonds):\n",
    "                    a = [bond.GetBeginAtomIdx(), bond.GetEndAtomIdx()]\n",
    "                    if fragment_bond[0] == bond.GetBeginAtomIdx() and fragment_bond[1] == bond.GetEndAtomIdx():\n",
    "                        bidx.append(bond.GetIdx())\n",
    "                        labels.append(fragment_bonds_labeled[fragment_bond_id][::-1])\n",
    "                        break\n",
    "                    elif fragment_bond[1] == bond.GetBeginAtomIdx() and fragment_bond[0] == bond.GetEndAtomIdx():\n",
    "                        bidx.append(bond.GetIdx())\n",
    "                        labels.append(fragment_bonds_labeled[fragment_bond_id])\n",
    "                        break\n",
    "                        \n",
    "            mol_frag = Chem.FragmentOnBonds(mol, tuple(bidx), dummyLabels=labels) # fragment the mol based on defined bonds\n",
    "            mol_frag_smi = Chem.MolToSmiles(mol_frag)\n",
    "            bbs_smi = [s for isx, s in enumerate(mol_frag_smi.split('.')) if \"*\" in s] #and s.count(\"[\"+str(isx+1))>0 ], a list of 3 BB smis\n",
    "            bb_smis.append(bbs_smi) # appends all frag_smi together       \n",
    "                \n",
    "    return bb_smis, uncut\n",
    "\n",
    "def get_mol_ids_with_bbs(bb_smis, mol_ids, mol_id_column):\n",
    "    if len(bb_smis[0]) == 4:\n",
    "        mol_ids_with_bbs = pd.DataFrame(bb_smis, columns=['A_smi', 'B_smi', 'C_smi', 'D_smi'])\n",
    "    elif len(bb_smis[0]) == 3:\n",
    "        mol_ids_with_bbs = pd.DataFrame(bb_smis, columns=['A_smi', 'B_smi', 'C_smi'])\n",
    "    else:\n",
    "        mol_ids_with_bbs = None\n",
    "        \n",
    "    mol_ids_with_bbs[mol_id_column] = mol_ids\n",
    "    \n",
    "    return mol_ids_with_bbs\n",
    "\n",
    "def get_bb_ids_with_count(mol_ids_with_bbs):\n",
    "    smi_cols = [c for c in mol_ids_with_bbs.columns if \"_smi\" in c] \n",
    "    \n",
    "    for ic, c in enumerate(smi_cols):\n",
    "        bb_smi = mol_ids_with_bbs[mol_ids_with_bbs[c]!=''][c].unique() # unique should not change the order of the df\n",
    "        bb_ids = [c.replace(\"_smi\",\"\") + str(i+1) for i,s in enumerate(bb_smi)]\n",
    "        counts = []\n",
    "        for bb in bb_smi:\n",
    "            counts.append(len(mol_ids_with_bbs[mol_ids_with_bbs[c] == bb][c]))\n",
    "        if ic == 0:\n",
    "            bb_ids_with_count = pd.DataFrame({'bb_id':bb_ids,'bb_smi':bb_smi,'count':counts})  \n",
    "        else:\n",
    "            bb_ids_with_count = bb_ids_with_count._append(pd.DataFrame({'bb_id':bb_ids, 'bb_smi':bb_smi, 'count':counts}))\n",
    "            \n",
    "    return bb_ids_with_count.reset_index()\n",
    "\n",
    "def assign_bb_ids_to_mol(mol_ids_with_bbs, bb_ids_with_count):\n",
    "    bb_ids_with_count = bb_ids_with_count[['bb_id', 'bb_smi']]\n",
    "    smi_cols = [c for c in mol_ids_with_bbs.columns if \"_smi\" in c]\n",
    "    \n",
    "    for ic, c in enumerate(smi_cols):\n",
    "        ismis = bb_ids_with_count[bb_ids_with_count['bb_id'].str.contains(c[0])] # same position    \n",
    "        df_t = mol_ids_with_bbs.merge(bb_ids_with_count, how='left', left_on=mol_ids_with_bbs[c].str.replace(\"*\",\"\"), right_on=bb_ids_with_count['bb_smi'].str.replace(\"*\",\"\")).rename(columns={'bb_id':c[0]+'_id'})\n",
    "        mol_ids_with_bbs = df_t.drop(columns=['key_0','bb_smi'])\n",
    "    return mol_ids_with_bbs\n",
    "    \n",
    "def format_bbs_df(bbs_df, mols_bbs_df, main_ppties):\n",
    "    bbs_df = bbs_df[['bb_smi', 'bb_id']]\n",
    "    bbs_df['bb_tag'] = bbs_df['bb_id'].str[0].astype(str)\n",
    "    \n",
    "    for ppty in main_ppties:\n",
    "        for index, row in bbs_df.iterrows():\n",
    "            median, count, score = get_ppty_median_count_from_bb_id(mols_bbs_df, row['bb_id'], ppty)\n",
    "            bbs_df.at[index, ppty+'_count'] = int(count)\n",
    "            bbs_df.at[index, ppty+'_median'] = round(median, 2)\n",
    "            bbs_df.at[index, ppty+'_score'] = round(score, 2)\n",
    "        print(ppty)\n",
    "        \n",
    "    return bbs_df\n",
    "\n",
    "def get_ppty_median_count_from_bb_id(df, bb_id, ppty):\n",
    "    # currently handle 3 or 4 BBs\n",
    "    try:\n",
    "        filt = (df['A_id'] == bb_id) | (df['B_id'] == bb_id) | (df['C_id'] == bb_id) | (df['D_id'] == bb_id)\n",
    "    except:\n",
    "        filt = (df['A_id'] == bb_id) | (df['B_id'] == bb_id) | (df['C_id'] == bb_id)\n",
    "    df = df[filt]\n",
    "    median = df[ppty].median()\n",
    "    count = df[ppty].count()\n",
    "    cv = (df[ppty].std() / df[ppty].mean()) * 100\n",
    "    if ppty in ['IP1_EC50', 'HLM', 'MDR1_efflux', 'logD'] and cv != None:\n",
    "        score = median + cv\n",
    "    elif cv != None:\n",
    "        score = median - cv\n",
    "    else:\n",
    "        score = None\n",
    "\n",
    "    return median, count, score\n",
    "\n",
    "def rank_bbs_ppties(bbs_df, ppties_list):\n",
    "    unfavorabel_gain_ppties = ['EC50_main', 'OX1_IP1_EC50', 'HLM']\n",
    "    filt = bbs_df['bb_id'].str.contains('A')\n",
    "    bb_a = bbs_df[filt]\n",
    "    filt = bbs_df['bb_id'].str.contains('B')\n",
    "    bb_b = bbs_df[filt]\n",
    "    filt = bbs_df['bb_id'].str.contains('C')\n",
    "    bb_c = bbs_df[filt]\n",
    "    for ppty in ppties_list:\n",
    "        if ppty in unfavorabel_gain_ppties:\n",
    "            bb_a[ppty+'_rank'] = bb_a[ppty+'_median'].rank(method='min', ascending=True).fillna(0).astype(int)\n",
    "            bb_b[ppty+'_rank'] = bb_b[ppty+'_median'].rank(method='min', ascending=True).fillna(0).astype(int)\n",
    "            bb_c[ppty+'_rank'] = bb_c[ppty+'_median'].rank(method='min', ascending=True).fillna(0).astype(int)\n",
    "        else:\n",
    "            bb_a[ppty+'_rank'] = bb_a[ppty+'_median'].rank(method='min', ascending=False).fillna(0).astype(int)\n",
    "            bb_b[ppty+'_rank'] = bb_b[ppty+'_median'].rank(method='min', ascending=False).fillna(0).astype(int)\n",
    "            bb_c[ppty+'_rank'] = bb_c[ppty+'_median'].rank(method='min', ascending=False).fillna(0).astype(int)\n",
    "    bbs_df = pd.concat([bb_a, bb_b, bb_c]) \n",
    "    return bbs_df"
   ]
  },
  {
   "cell_type": "markdown",
   "metadata": {},
   "source": [
    "#### Data Processing: fragment the Chemical Series into its consituent BBs\n",
    "##### Load dataset"
   ]
  },
  {
   "cell_type": "code",
   "execution_count": 3,
   "metadata": {},
   "outputs": [],
   "source": [
    "mols_with_ppties = PandasTools.LoadSDF('DORA_Lactam_mols.sdf', smilesName='mol_smi', molColName='ROMol')"
   ]
  },
  {
   "cell_type": "markdown",
   "metadata": {},
   "source": [
    "##### Show bonds used to fragment the chemical series into BBs"
   ]
  },
  {
   "cell_type": "code",
   "execution_count": 4,
   "metadata": {},
   "outputs": [
    {
     "data": {
      "image/png": "[encoded data removed]",
      "text/plain": [
       "<rdkit.Chem.rdchem.Mol at 0x7f4c1f975000>"
      ]
     },
     "execution_count": 4,
     "metadata": {},
     "output_type": "execute_result"
    }
   ],
   "source": [
    "mol = Chem.MolFromSmiles('COc1cccc(OC)c1[C@@H]1C[C@H](F)C(=O)N1Cc1ccc(OC(F)(F)F)cc1') # a molecule from the chemical series\n",
    "mol.GetSubstructMatches(Chem.MolFromSmarts('[*]-!@[#6;R;x2]-@[#7;$([#7]@[#6;$([#6]=[O])])]-!@[*]')) # the substr used to define C, thus A and B\n",
    "mol"
   ]
  },
  {
   "cell_type": "markdown",
   "metadata": {},
   "source": [
    "##### Assign BBs to molecules using the fragmentation rules above"
   ]
  },
  {
   "cell_type": "code",
   "execution_count": 5,
   "metadata": {},
   "outputs": [],
   "source": [
    "mols_H, mol_ids = get_mol_H(mols_with_ppties, 'mol_smi', 'ID')\n",
    "bb_smis, uncut = get_bbs_from_frag_bonds(mols_H, get_fragment_bonds, 3)\n",
    "mol_ids_with_bbs = get_mol_ids_with_bbs(bb_smis, mol_ids, 'ID')\n",
    "bb_ids_with_count = get_bb_ids_with_count(mol_ids_with_bbs)\n",
    "mol_ids_with_bb_ids = assign_bb_ids_to_mol(mol_ids_with_bbs, bb_ids_with_count)\n",
    "mols_with_bb_ids = pd.merge(mols_with_ppties, mol_ids_with_bb_ids, on='ID')"
   ]
  },
  {
   "cell_type": "markdown",
   "metadata": {},
   "source": [
    "##### Write mols_bbs.json"
   ]
  },
  {
   "cell_type": "code",
   "execution_count": 6,
   "metadata": {},
   "outputs": [],
   "source": [
    "mols_with_bb_ids = mols_with_bb_ids[['ID', 'mol_smi', 'EC50_main', 'A_id', 'B_id', 'C_id', 'OX1_IP1_EC50', 'HLM', 'CYP_testo',\n",
    "       'ratio_hOX1R_hOX2R', 'mol_flag']]\n",
    "mols_with_bb_ids.rename(columns={'ID':'mol_id'}, inplace=True)\n",
    "mols_with_bb_ids['project'] = 'DORA'\n",
    "mols_with_bb_ids['series'] = 'Lactam'\n",
    "# fix B22/68 stereo: this is done to distinguish the enantio pure BB from the racemic for later analysis\n",
    "mols_with_bb_ids.loc[(mols_with_bb_ids['B_id'] == 'B22') & (mols_with_bb_ids['mol_flag'] == 'this enantiomer R'), 'B_id'] = 'B68'\n",
    "mols_with_bb_ids['bbs_id'] = mols_with_bb_ids[['A_id', 'B_id', 'C_id']].values.tolist()\n",
    "mols_with_bb_ids['sub_series'] = ''\n",
    "mols_with_bb_ids['EC50_main'] = mols_with_bb_ids['EC50_main'].astype(float)\n",
    "mols_with_bb_ids['CYP_testo'] =  pd.to_numeric(mols_with_bb_ids['CYP_testo'], errors='coerce')\n",
    "mols_with_bb_ids['OX1_IP1_EC50'] = mols_with_bb_ids['OX1_IP1_EC50'].astype(float)\n",
    "mols_with_bb_ids['HLM'] =  pd.to_numeric(mols_with_bb_ids['HLM'], errors='coerce')\n",
    "mols_with_bb_ids['ratio_hOX1R_hOX2R'] = mols_with_bb_ids['ratio_hOX1R_hOX2R'].astype(float)\n",
    "mols_with_bb_ids.to_json('DORA_Lactam_mols_bbs.json', orient = 'records')"
   ]
  },
  {
   "cell_type": "markdown",
   "metadata": {},
   "source": [
    "##### Write bbs.json"
   ]
  },
  {
   "cell_type": "code",
   "execution_count": null,
   "metadata": {
    "scrolled": true
   },
   "outputs": [],
   "source": [
    "# insert B68: this is done to distinguish the enantio pure BB from the racemic for later analysis\n",
    "new_row = {'index': 323, 'bb_id': 'B68', 'bb_smi': '[21*][C@]1([H])C[C@@]([H])(O)C(=O)N1[23*]', 'count': 15}\n",
    "bb_ids_with_count = pd.concat([bb_ids_with_count, pd.DataFrame([new_row])], ignore_index=True)\n",
    "bb_ids_with_count.loc[(bb_ids_with_count['bb_id'] == 'B22'), 'count'] = 87"
   ]
  },
  {
   "cell_type": "code",
   "execution_count": null,
   "metadata": {},
   "outputs": [],
   "source": [
    "# Extract the letter part (e.g., 'A', 'B', etc.) and numeric part separately\n",
    "bb_ids_with_count['bb_letter'] = bb_ids_with_count['bb_id'].str.extract('([A-Z]+)')\n",
    "bb_ids_with_count['bb_number'] = bb_ids_with_count['bb_id'].str.extract('(\\d+)').astype(int)\n",
    "bb_ids_with_count = bb_ids_with_count.sort_values(by=['bb_letter', 'bb_number'])\n",
    "bb_ids_with_count = bb_ids_with_count.drop(columns=['bb_letter', 'bb_number'])"
   ]
  },
  {
   "cell_type": "code",
   "execution_count": null,
   "metadata": {},
   "outputs": [],
   "source": [
    "mols_with_bb_ids['EC50_main'] = mols_with_bb_ids['EC50_main'].astype(float)\n",
    "mols_with_bb_ids['CYP_testo'] =  pd.to_numeric(mols_with_bb_ids['CYP_testo'], errors='coerce')\n",
    "mols_with_bb_ids['OX1_IP1_EC50'] = mols_with_bb_ids['OX1_IP1_EC50'].astype(float)\n",
    "mols_with_bb_ids['HLM'] =  pd.to_numeric(mols_with_bb_ids['HLM'], errors='coerce')\n",
    "mols_with_bb_ids['ratio_hOX1R_hOX2R'] = mols_with_bb_ids['ratio_hOX1R_hOX2R'].astype(float)\n",
    "bbs_with_ppties = format_bbs_df(bb_ids_with_count, mols_with_bb_ids, ['EC50_main', 'CYP_testo', 'OX1_IP1_EC50', 'HLM', 'ratio_hOX1R_hOX2R'])"
   ]
  },
  {
   "cell_type": "code",
   "execution_count": null,
   "metadata": {},
   "outputs": [],
   "source": [
    "bbs_with_ppties = rank_bbs_ppties(bbs_with_ppties, ['EC50_main', 'CYP_testo', 'OX1_IP1_EC50', 'HLM', 'ratio_hOX1R_hOX2R'])"
   ]
  },
  {
   "cell_type": "code",
   "execution_count": null,
   "metadata": {},
   "outputs": [],
   "source": [
    "bbs_with_ppties['project'] = 'DORA'\n",
    "bbs_with_ppties['series'] = 'Lactam'\n",
    "bbs_with_ppties['count'] = bbs_with_ppties['EC50_main_count'].astype(int)"
   ]
  },
  {
   "cell_type": "code",
   "execution_count": null,
   "metadata": {},
   "outputs": [],
   "source": [
    "bbs_with_ppties.to_json('../data/DORA_Lactam_bbs.json', orient = 'records')"
   ]
  },
  {
   "cell_type": "code",
   "execution_count": null,
   "metadata": {},
   "outputs": [],
   "source": []
  }
 ],
 "metadata": {
  "kernelspec": {
   "display_name": "Python 3 (ipykernel)",
   "language": "python",
   "name": "python3"
  },
  "language_info": {
   "codemirror_mode": {
    "name": "ipython",
    "version": 3
   },
   "file_extension": ".py",
   "mimetype": "text/x-python",
   "name": "python",
   "nbconvert_exporter": "python",
   "pygments_lexer": "ipython3",
   "version": "3.10.13"
  }
 },
 "nbformat": 4,
 "nbformat_minor": 4
}
